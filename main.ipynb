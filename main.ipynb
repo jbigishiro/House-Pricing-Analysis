{
 "cells": [
  {
   "cell_type": "markdown",
   "metadata": {},
   "source": [
    "## Final Project: House Sales in King County, USA "
   ]
  },
  {
   "cell_type": "markdown",
   "metadata": {},
   "source": [
    "### About the Dataset"
   ]
  },
  {
   "cell_type": "markdown",
   "metadata": {},
   "source": [
    "This dataset contains house sale prices for King County, which includes Seattle. It includes homes sold between May 2014 and May 2015. It was taken from here. It was also slightly modified for the purposes of this project. \n",
    "\n",
    "\n",
    "- id:\tA notation for a house\n",
    "- date:\tDate house was sold\n",
    "- price:\tPrice is prediction target\n",
    "- bedrooms:\tNumber of bedrooms\n",
    "- bathrooms:\tNumber of bathrooms\n",
    "- sqft_living:\tSquare footage of the home\n",
    "- sqft_lot:\tSquare footage of the lot\n",
    "- floors:\tTotal floors (levels) in house\n",
    "- waterfront:\tHouse which has a view to a waterfront\n",
    "- view:\tHas been viewed\n",
    "- condition:\tHow good the condition is overall\n",
    "- grade:\toverall grade given to the housing unit, based on King County grading system\n",
    "- sqft_above:\tSquare footage of house apart from basement\n",
    "- sqft_basement:\tSquare footage of the basement\n",
    "- yr_built:\tBuilt Year\n",
    "- yr_renovated:\tYear when house was renovated\n",
    "- zipcode:\tZip code\n",
    "- lat:\tLatitude coordinate\n",
    "- long:\tLongitude coordinate\n",
    "- sqft_living15:\tLiving room area in 2015(implies-- some renovations) This might or might not have affected the lotsize area\n",
    "- sqft_lot15:\tLotSize area in 2015(implies-- some renovations)"
   ]
  },
  {
   "cell_type": "markdown",
   "metadata": {},
   "source": [
    "### Import the required libraries"
   ]
  },
  {
   "cell_type": "code",
   "execution_count": 1,
   "metadata": {},
   "outputs": [],
   "source": [
    "import pandas as pd\n",
    "import numpy as np\n",
    "import seaborn as sns\n",
    "from matplotlib import pyplot as plt"
   ]
  }
 ],
 "metadata": {
  "kernelspec": {
   "display_name": "Python 3",
   "language": "python",
   "name": "python3"
  },
  "language_info": {
   "codemirror_mode": {
    "name": "ipython",
    "version": 3
   },
   "file_extension": ".py",
   "mimetype": "text/x-python",
   "name": "python",
   "nbconvert_exporter": "python",
   "pygments_lexer": "ipython3",
   "version": "3.11.7"
  }
 },
 "nbformat": 4,
 "nbformat_minor": 2
}
